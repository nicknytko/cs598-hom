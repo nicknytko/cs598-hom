{
 "cells": [
  {
   "cell_type": "code",
   "execution_count": 1,
   "metadata": {},
   "outputs": [],
   "source": [
    "import numpy as np\n",
    "import numpy.linalg as la"
   ]
  },
  {
   "cell_type": "code",
   "execution_count": 2,
   "metadata": {},
   "outputs": [],
   "source": [
    "def fold_panels(P):\n",
    "    m = len(P)\n",
    "    Z = np.zeros((2,2,2))\n",
    "    for i in range(m):\n",
    "        Z[:,:,i] = np.array(P[i], dtype=np.float64)\n",
    "    return Z"
   ]
  },
  {
   "cell_type": "code",
   "execution_count": 6,
   "metadata": {},
   "outputs": [],
   "source": [
    "def unfold(P):\n",
    "    m = P.ndim\n",
    "    R = np.zeros((2, 2**(P.ndim - 1)))\n",
    "    for i in range(m-1):\n",
    "        R[0:2, i*2:(i+1)*2] = P[:,:,i]\n",
    "    return R"
   ]
  },
  {
   "cell_type": "code",
   "execution_count": 565,
   "metadata": {},
   "outputs": [
    {
     "data": {
      "text/plain": [
       "array([[[0., 1.],\n",
       "        [1., 1.]],\n",
       "\n",
       "       [[1., 0.],\n",
       "        [0., 0.]]])"
      ]
     },
     "execution_count": 565,
     "metadata": {},
     "output_type": "execute_result"
    }
   ],
   "source": [
    "P = fold_panels([ [[0,1],[1,0]], [[1,1],[0,0]] ])\n",
    "P"
   ]
  },
  {
   "cell_type": "code",
   "execution_count": 554,
   "metadata": {},
   "outputs": [
    {
     "data": {
      "text/plain": [
       "array([[0., 1., 1., 1.],\n",
       "       [1., 0., 0., 0.]])"
      ]
     },
     "execution_count": 554,
     "metadata": {},
     "output_type": "execute_result"
    }
   ],
   "source": [
    "R = unfold(P)\n",
    "R"
   ]
  },
  {
   "cell_type": "code",
   "execution_count": 599,
   "metadata": {},
   "outputs": [],
   "source": [
    "x = np.array([0.5,0.5])"
   ]
  },
  {
   "cell_type": "code",
   "execution_count": 623,
   "metadata": {},
   "outputs": [
    {
     "data": {
      "text/plain": [
       "array([2.07930264e-181, 1.00000000e+000])"
      ]
     },
     "execution_count": 623,
     "metadata": {},
     "output_type": "execute_result"
    }
   ],
   "source": [
    "x=np.einsum('ijk,j,k->i', P,x,x)\n",
    "x"
   ]
  },
  {
   "cell_type": "code",
   "execution_count": 555,
   "metadata": {},
   "outputs": [],
   "source": [
    "def Pi(M):\n",
    "    # Steady state distribution of stochastic matrix\n",
    "    x = np.random.rand(2)\n",
    "    x /= la.norm(x,1)\n",
    "    for i in range(100):\n",
    "        x = M@x\n",
    "    return x"
   ]
  },
  {
   "cell_type": "code",
   "execution_count": 557,
   "metadata": {},
   "outputs": [
    {
     "name": "stdout",
     "output_type": "stream",
     "text": [
      "[0.44577587 0.55422413]\n",
      "[1. 0.]\n"
     ]
    }
   ],
   "source": [
    "print(Pi(P[:,:,0]))\n",
    "print(Pi(P[:,:,1]))"
   ]
  },
  {
   "cell_type": "code",
   "execution_count": 558,
   "metadata": {},
   "outputs": [],
   "source": [
    "def M(R, x):\n",
    "    return R@np.kron(x.reshape((2,1)), np.eye(2))"
   ]
  },
  {
   "cell_type": "code",
   "execution_count": 559,
   "metadata": {},
   "outputs": [
    {
     "data": {
      "text/plain": [
       "array([0.8, 0.2])"
      ]
     },
     "execution_count": 559,
     "metadata": {},
     "output_type": "execute_result"
    }
   ],
   "source": [
    "Pi(M(R, np.array([0.25,0.75])))"
   ]
  },
  {
   "cell_type": "code",
   "execution_count": 560,
   "metadata": {},
   "outputs": [],
   "source": [
    "def dxdt(R, x):\n",
    "    return Pi(M(R,x)) - x"
   ]
  },
  {
   "cell_type": "code",
   "execution_count": 561,
   "metadata": {},
   "outputs": [],
   "source": [
    "sp = np.linspace(0, 1, 100)\n",
    "y = np.zeros(100)\n",
    "for i in range(100):\n",
    "    xx = sp[i]\n",
    "    y[i] = la.norm(dxdt(R, np.array([xx,1-xx])))"
   ]
  },
  {
   "cell_type": "code",
   "execution_count": 562,
   "metadata": {},
   "outputs": [
    {
     "data": {
      "text/plain": [
       "[<matplotlib.lines.Line2D at 0x13fd52880>]"
      ]
     },
     "execution_count": 562,
     "metadata": {},
     "output_type": "execute_result"
    },
    {
     "data": {
      "image/png": "[encoded data removed]",
      "text/plain": [
       "<Figure size 432x288 with 1 Axes>"
      ]
     },
     "metadata": {
      "needs_background": "light"
     },
     "output_type": "display_data"
    }
   ],
   "source": [
    "plt.plot(y)"
   ]
  },
  {
   "cell_type": "code",
   "execution_count": 563,
   "metadata": {},
   "outputs": [],
   "source": [
    "x = np.array([0.25, 0.75])"
   ]
  },
  {
   "cell_type": "code",
   "execution_count": 564,
   "metadata": {},
   "outputs": [
    {
     "name": "stdout",
     "output_type": "stream",
     "text": [
      "[0.61803399 0.38196601] [ 5.66338088e-11 -5.66344749e-11]\n"
     ]
    },
    {
     "data": {
      "text/plain": [
       "[<matplotlib.lines.Line2D at 0x13fd8f6a0>]"
      ]
     },
     "execution_count": 564,
     "metadata": {},
     "output_type": "execute_result"
    },
    {
     "data": {
      "image/png": "[encoded data removed]",
      "text/plain": [
       "<Figure size 432x288 with 1 Axes>"
      ]
     },
     "metadata": {
      "needs_background": "light"
     },
     "output_type": "display_data"
    }
   ],
   "source": [
    "res = []\n",
    "while True:\n",
    "    dx = dxdt(R,x)\n",
    "    x += dx\n",
    "    x /= la.norm(x,1)\n",
    "    res.append(la.norm(dx))\n",
    "    if la.norm(dx) < 1e-10:\n",
    "        break\n",
    "print(x, dx)\n",
    "plt.semilogy(res)"
   ]
  },
  {
   "cell_type": "code",
   "execution_count": null,
   "metadata": {},
   "outputs": [],
   "source": []
  }
 ],
 "metadata": {
  "kernelspec": {
   "display_name": "Python 3",
   "language": "python",
   "name": "python3"
  },
  "language_info": {
   "codemirror_mode": {
    "name": "ipython",
    "version": 3
   },
   "file_extension": ".py",
   "mimetype": "text/x-python",
   "name": "python",
   "nbconvert_exporter": "python",
   "pygments_lexer": "ipython3",
   "version": "3.9.0"
  }
 },
 "nbformat": 4,
 "nbformat_minor": 4
}
